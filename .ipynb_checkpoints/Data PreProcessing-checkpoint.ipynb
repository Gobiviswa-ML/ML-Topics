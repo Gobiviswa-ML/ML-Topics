{
 "cells": [
  {
   "cell_type": "raw",
   "metadata": {},
   "source": [
    "Data Preprocessing is refers to all the changes we need to apply on the data before we use it to actual Machine Learning algorithms. \n",
    "\n",
    "When we gather information from outside world, it mostly will be pure RAW data which cant be processed directly in the algorithms. So we need to do some actions on the data which will change raw data into the format which we can use it for algorithms.\n",
    "    \n",
    "there are many preprocessing methods available...\n",
    "\n",
    "1.) Rescaling (or) column Normalization\n",
    "2.) Binaryzing the column\n",
    "3.) Column Standardization\n",
    "    "
   ]
  },
  {
   "cell_type": "raw",
   "metadata": {},
   "source": [
    "Rescaling (or) Column Normalization:\n",
    "\n",
    "    Column normalization is a method which is used to change the scale of all the columns into same scale. After this process, values of every column will be in (0,1) range.\n",
    "    \n",
    "There could be many ways to do column normalization in math world. But normal way to do column normalization is using below formula on all the columns.\n",
    "            Xi = (x-min) / (max-min)\n",
    "            \n",
    "For example we will use most famous IRIS data set."
   ]
  },
  {
   "cell_type": "code",
   "execution_count": 167,
   "metadata": {},
   "outputs": [
    {
     "name": "stdout",
     "output_type": "stream",
     "text": [
      "   sepal_length  sepal_width  petal_length  petal_width species\n",
      "0          0.22         0.62          0.07         0.04  setosa\n",
      "1          0.17         0.42          0.07         0.04  setosa\n",
      "2          0.11         0.50          0.05         0.04  setosa\n",
      "3          0.08         0.46          0.08         0.04  setosa\n",
      "4          0.19         0.67          0.07         0.04  setosa\n"
     ]
    }
   ],
   "source": [
    "import pandas as pd\n",
    "from sklearn import preprocessing\n",
    "import seaborn as sns\n",
    "import matplotlib.pyplot as plt\n",
    "\n",
    "iris = pd.read_csv(\"/home/cosgrid/Pictures/Practice/ai/Ml/iris.csv\")  #Read CSV File\n",
    "#Out objective is to change  scale of all the columns into same scale (values between 0 to 1)\n",
    "\n",
    "columns = iris.columns[:-1]\n",
    "for column in columns:\n",
    "    iris[column] = iris[column].apply(lambda x : round( (x - iris[column].min()) / (iris[column].max() - iris[column].min()),2 ))\n",
    "\n",
    "print(iris.head()) #here iris is the column normaized data, all the values are between 0-1\n",
    "\n",
    "#There is a package in sklearn we can use to do the same process\n",
    "# mmscalar = preprocessing.MinMaxScaler()\n",
    "# processed = mmscalar.fit_transform(iris[columns])\n",
    "# processedDF = pd.DataFrame.from_records(processed, columns=columns)\n"
   ]
  },
  {
   "cell_type": "code",
   "execution_count": 107,
   "metadata": {},
   "outputs": [],
   "source": [
    "#Binaryzing::  Making the values Zeros and oned according to the thresold value given\n",
    "iris = pd.read_csv(\"/home/cosgrid/Pictures/Practice/ai/Ml/iris.csv\") \n",
    "petal_length = iris['petal_length']\n",
    "mean_value = petal_length.mean()  #Using mean value as thresold\n",
    "petal_length_binarized = petal_length.apply(lambda x: 0 if x<mean_value else 1)\n",
    "#Using sklearn package\n",
    "# petal_length = iris['petal_length'].values\n",
    "# petal_length = petal_length.reshape(1,-1)\n",
    "# binarizer = preprocessing.Binarizer(mean_value)\n",
    "# petal_length_binarized = binarizer.fit_transform(petal_length)\n",
    "# print(petal_length_binarized)"
   ]
  }
 ],
 "metadata": {
  "kernelspec": {
   "display_name": "Python 3",
   "language": "python",
   "name": "python3"
  },
  "language_info": {
   "codemirror_mode": {
    "name": "ipython",
    "version": 3
   },
   "file_extension": ".py",
   "mimetype": "text/x-python",
   "name": "python",
   "nbconvert_exporter": "python",
   "pygments_lexer": "ipython3",
   "version": "3.6.5"
  }
 },
 "nbformat": 4,
 "nbformat_minor": 2
}
